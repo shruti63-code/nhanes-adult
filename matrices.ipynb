{
  "nbformat": 4,
  "nbformat_minor": 0,
  "metadata": {
    "colab": {
      "provenance": [],
      "authorship_tag": "ABX9TyOyE16Gv6tLCa/0f9lQywJ7",
      "include_colab_link": true
    },
    "kernelspec": {
      "name": "python3",
      "display_name": "Python 3"
    },
    "language_info": {
      "name": "python"
    }
  },
  "cells": [
    {
      "cell_type": "markdown",
      "metadata": {
        "id": "view-in-github",
        "colab_type": "text"
      },
      "source": [
        "<a href=\"https://colab.research.google.com/github/shruti63-code/nhanes-adult/blob/main/matrices.ipynb\" target=\"_parent\"><img src=\"https://colab.research.google.com/assets/colab-badge.svg\" alt=\"Open In Colab\"/></a>"
      ]
    },
    {
      "cell_type": "markdown",
      "source": [
        "# Working with numpy Matrices (Multidimensional Data)"
      ],
      "metadata": {
        "id": "B3J05FR4iurR"
      }
    },
    {
      "cell_type": "code",
      "execution_count": null,
      "metadata": {
        "id": "qwS7AlG8odCR",
        "colab": {
          "base_uri": "https://localhost:8080/"
        },
        "outputId": "00d12e3a-fb7a-4aae-862f-fa5043b3b604"
      },
      "outputs": [
        {
          "output_type": "stream",
          "name": "stdout",
          "text": [
            "Requirement already satisfied: numpy in /usr/local/lib/python3.10/dist-packages (1.26.4)\n",
            "Requirement already satisfied: pandas in /usr/local/lib/python3.10/dist-packages (2.2.2)\n",
            "Requirement already satisfied: numpy>=1.22.4 in /usr/local/lib/python3.10/dist-packages (from pandas) (1.26.4)\n",
            "Requirement already satisfied: python-dateutil>=2.8.2 in /usr/local/lib/python3.10/dist-packages (from pandas) (2.8.2)\n",
            "Requirement already satisfied: pytz>=2020.1 in /usr/local/lib/python3.10/dist-packages (from pandas) (2024.2)\n",
            "Requirement already satisfied: tzdata>=2022.7 in /usr/local/lib/python3.10/dist-packages (from pandas) (2024.2)\n",
            "Requirement already satisfied: six>=1.5 in /usr/local/lib/python3.10/dist-packages (from python-dateutil>=2.8.2->pandas) (1.17.0)\n"
          ]
        }
      ],
      "source": [
        "!pip install numpy\n",
        "import numpy as np\n",
        "!pip install pandas\n",
        "import pandas as pd\n",
        "import matplotlib.pyplot as plt\n",
        "import urllib.request\n",
        "import os"
      ]
    },
    {
      "cell_type": "markdown",
      "source": [
        "This code snippet is essentially preparing the environment by installing necessary libraries and making them available for use within the code.\n",
        "\n",
        "**Installing numpy:**\n",
        "* !pip install numpy: This line uses pip, a package installer for Python, to install the numpy library. numpy is a powerful library for numerical computations in Python, providing support for arrays, matrices, and mathematical functions.\n",
        "* import numpy as np: This line imports the numpy library and assigns it a shorter alias np for easier use throughout the code. This means whenever you see np in the code, it refers to the numpy library.\n",
        "\n",
        "**Installing pandas:**\n",
        "\n",
        "* !pip install pandas: Similar to numpy, this line installs the pandas library using pip. pandas is a library built on top of numpy, providing data structures like DataFrames for efficient data manipulation and analysis.\n",
        "* import pandas as pd: This line imports the pandas library and assigns it an alias pd, making it easier to reference.\n",
        "Importing other libraries:"
      ],
      "metadata": {
        "id": "hTeii48ti3qN"
      }
    },
    {
      "cell_type": "code",
      "source": [
        "# File URLs\n",
        "male_data_url = \"https://github.com/gagolews/teaching-data/raw/master/marek/nhanes_adult_male_bmx_2020.csv\"\n",
        "female_data_url = \"https://github.com/gagolews/teaching-data/raw/master/marek/nhanes_adult_female_bmx_2020.csv\"\n"
      ],
      "metadata": {
        "id": "8C6USf3oof7b"
      },
      "execution_count": null,
      "outputs": []
    },
    {
      "cell_type": "markdown",
      "source": [
        "In simpler terms:\n",
        "\n",
        "*These variables as labels you put on containers. The labels are male_data_url and female_data_url. Inside the containers, you have the addresses to where the actual male and female data files are located on the internet (GitHub).*"
      ],
      "metadata": {
        "id": "oAbdHgLOkHkN"
      }
    },
    {
      "cell_type": "code",
      "source": [
        "# Load data into pandas DataFrames with error handling\n",
        "try:\n",
        "    male_data = pd.read_csv(male_data_url, on_bad_lines='skip')\n",
        "    female_data = pd.read_csv(female_data_url, on_bad_lines='skip')\n",
        "except pd.errors.ParserError as e:\n",
        "    print(\"Error loading data:\", e)\n",
        "    raise\n"
      ],
      "metadata": {
        "id": "a-m47sPaXhDF"
      },
      "execution_count": null,
      "outputs": []
    },
    {
      "cell_type": "markdown",
      "source": [
        "In essence, this code snippet tries to load data from two CSV files into pandas DataFrames. If it encounters parsing errors, it skips the problematic lines and then prints an error message before stopping the execution to prevent further issues."
      ],
      "metadata": {
        "id": "ol1KWfTGkXBe"
      }
    },
    {
      "cell_type": "code",
      "source": [
        "# Print column names to check their availability\n",
        "print(\"Columns in Male Data:\", male_data.columns)\n",
        "print(\"Columns in Female Data:\", female_data.columns)\n",
        "\n"
      ],
      "metadata": {
        "colab": {
          "base_uri": "https://localhost:8080/"
        },
        "id": "yu6zkHzvdfcJ",
        "outputId": "db8a5330-58d2-41c4-af19-0a851a6eab0e"
      },
      "execution_count": null,
      "outputs": [
        {
          "output_type": "stream",
          "name": "stdout",
          "text": [
            "Columns in Male Data: Index(['# Body measurements of males >= 18 years old [cm]'], dtype='object')\n",
            "Columns in Female Data: Index(['# Body measurements of females >= 18 years old [cm]', ' no missing data.'], dtype='object')\n"
          ]
        }
      ]
    },
    {
      "cell_type": "markdown",
      "source": [
        "*These lines are designed to display the names of the columns (headers) within the male_data and female_data DataFrames.*\n",
        "\n",
        "**In simpler terms:**\n",
        "\n",
        "This line takes the column names from the male_data DataFrame and prints them on the screen with a descriptive label.\n",
        "\n",
        "The main reason for including these lines is to verify and ensure that the data has been loaded correctly and that the expected columns are present in both datasets. By printing the column names, the user can quickly confirm if the data structure matches their expectations and proceed with further analysis."
      ],
      "metadata": {
        "id": "iHn1POtVlD-c"
      }
    },
    {
      "cell_type": "code",
      "source": [
        "# Verify column names and adjust if necessary\n",
        "columns_to_select = ['BMXWT', 'BMXHT', 'BMXARML', 'BMXLEG', 'BMXARMC', 'BMXHIP', 'BMXWAIST']\n"
      ],
      "metadata": {
        "id": "UvRuhKhSeZet"
      },
      "execution_count": null,
      "outputs": []
    },
    {
      "cell_type": "markdown",
      "source": [
        "This line is creating a list in Python. Think of a list as an ordered container that holds multiple items.\n",
        "\n",
        "**In simpler terms:**\n",
        "\n",
        "Imagine you have a spreadsheet with lots of columns, but you're only interested in a few specific ones. This line is like writing down the names of those specific columns you want to work with on a piece of paper. columns_to_select is the name you've given to that piece of paper, and the items in the list are the actual column names you've written down.\n",
        "\n",
        "**Why is this important?**\n",
        "\n",
        "Later in the code, this list (columns_to_select) will likely be used to select or extract only those specific columns from a larger dataset. This is a common way to focus you"
      ],
      "metadata": {
        "id": "cboySWTbleGo"
      }
    },
    {
      "cell_type": "code",
      "source": [
        "# Check if required columns exist\n",
        "missing_male_cols = [col for col in columns_to_select if col not in male_data.columns]\n",
        "missing_female_cols = [col for col in columns_to_select if col not in female_data.columns]\n",
        "\n",
        "if missing_male_cols:\n",
        "    print(f\"Missing columns in Male Data: {missing_male_cols}\")\n",
        "if missing_female_cols:\n",
        "    print(f\"Missing columns in Female Data: {missing_female_cols}\")\n",
        "\n"
      ],
      "metadata": {
        "colab": {
          "base_uri": "https://localhost:8080/"
        },
        "id": "6Gl7wGqFgSda",
        "outputId": "b8037c6a-c9f5-415c-e638-fc4c81249a6a"
      },
      "execution_count": null,
      "outputs": [
        {
          "output_type": "stream",
          "name": "stdout",
          "text": [
            "Missing columns in Male Data: ['BMXWT', 'BMXHT', 'BMXARML', 'BMXLEG', 'BMXARMC', 'BMXHIP', 'BMXWAIST']\n",
            "Missing columns in Female Data: ['BMXWT', 'BMXHT', 'BMXARML', 'BMXLEG', 'BMXARMC', 'BMXHIP', 'BMXWAIST']\n"
          ]
        }
      ]
    },
    {
      "cell_type": "markdown",
      "source": [
        "In simpler terms:\n",
        "\n",
        "*Imagine you have a checklist (columns_to_select) of items you need. You then compare this checklist to the items you have in two boxes (your datasets - male_data and female_data). The code checks each box for the items on your checklist. If any item is missing from a box, it makes a note of it and tells you which items are missing from which box. This ensures that you have all the necessary data before you proceed with your analysis.*"
      ],
      "metadata": {
        "id": "kiZ5VOiIl7FZ"
      }
    },
    {
      "cell_type": "code",
      "source": [
        "# Display the first few rows of each dataset\n",
        "print(\"Male Matrix (First 8 Rows):\")\n",
        "print(male_data[:8])\n",
        "\n",
        "print(\"\\nFemale Matrix (First 8 Rows):\")\n",
        "print(female_data[:8])\n"
      ],
      "metadata": {
        "colab": {
          "base_uri": "https://localhost:8080/"
        },
        "id": "al2SBelLhtJm",
        "outputId": "1a12b226-d4ef-449f-9729-b0489afc13ed"
      },
      "execution_count": null,
      "outputs": [
        {
          "output_type": "stream",
          "name": "stdout",
          "text": [
            "Male Matrix (First 8 Rows):\n",
            "  # Body measurements of males >= 18 years old [cm]\n",
            "0                                                 #\n",
            "1                                     # Weight (kg)\n",
            "2                            # Standing Height (cm)\n",
            "3                           # Upper Arm Length (cm)\n",
            "4                           # Upper Leg Length (cm)\n",
            "5                          # Arm Circumference (cm)\n",
            "6                          # Hip Circumference (cm)\n",
            "7                        # Waist Circumference (cm)\n",
            "\n",
            "Female Matrix (First 8 Rows):\n",
            "  # Body measurements of females >= 18 years old [cm]   no missing data.\n",
            "0                                                  #                 NaN\n",
            "1                                      # Weight (kg)                 NaN\n",
            "2                             # Standing Height (cm)                 NaN\n",
            "3                            # Upper Arm Length (cm)                 NaN\n",
            "4                            # Upper Leg Length (cm)                 NaN\n",
            "5                           # Arm Circumference (cm)                 NaN\n",
            "6                           # Hip Circumference (cm)                 NaN\n",
            "7                         # Waist Circumference (cm)                 NaN\n"
          ]
        }
      ]
    },
    {
      "cell_type": "markdown",
      "source": [
        "This code snippet is designed to show you the first 8 rows of both the male_data and female_data datasets. This is a common step in data analysis to get a quick glimpse of what the data looks like.\n",
        "\n",
        "**In simpler terms:**\n",
        "\n",
        "*You have two spreadsheets, one for male data and one for female data. This code is like taking the top 8 rows from each spreadsheet and printing them on the screen so you can see a preview of the data in each. This allows you to quickly understand the structure and content of your datasets before doing further analysis.*"
      ],
      "metadata": {
        "id": "lEq2kbgnmUUo"
      }
    },
    {
      "cell_type": "code",
      "source": [
        " #Print the shapes to verify\n",
        "print(\"Male Matrix Shape:\", male_data.shape)\n",
        "print(\"Female Matrix Shape:\", female_data.shape)"
      ],
      "metadata": {
        "colab": {
          "base_uri": "https://localhost:8080/"
        },
        "id": "sfkyFWSckDZq",
        "outputId": "329ab31e-6bcc-455a-8a79-3ed391363b9d"
      },
      "execution_count": null,
      "outputs": [
        {
          "output_type": "stream",
          "name": "stdout",
          "text": [
            "Male Matrix Shape: (17, 1)\n",
            "Female Matrix Shape: (17, 2)\n"
          ]
        }
      ]
    },
    {
      "cell_type": "markdown",
      "source": [
        "**In Simpler Terms:**\n",
        "\n",
        " You have two tables of data. These lines of code are essentially telling you the size of each table: how many rows and columns each table contains. This information is important for understanding the structure of your data and for performing further analysis.\n",
        "\n",
        "*Example:*\n",
        "\n",
        "If the output of male_data.shape is (1234, 10), it means the male_data DataFrame has 1234 rows and 10 columns. Similarly, if female_data.shape is (1500, 10), it means the female_data DataFrame has 1500 rows and 10 columns."
      ],
      "metadata": {
        "id": "ZeFCldeEm2Al"
      }
    }
  ]
}