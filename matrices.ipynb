{
  "nbformat": 4,
  "nbformat_minor": 0,
  "metadata": {
    "colab": {
      "provenance": [],
      "authorship_tag": "ABX9TyPe4MfXmR4T7WobYg6pW+1k",
      "include_colab_link": true
    },
    "kernelspec": {
      "name": "python3",
      "display_name": "Python 3"
    },
    "language_info": {
      "name": "python"
    }
  },
  "cells": [
    {
      "cell_type": "markdown",
      "metadata": {
        "id": "view-in-github",
        "colab_type": "text"
      },
      "source": [
        "<a href=\"https://colab.research.google.com/github/shruti63-code/nhanes-adult/blob/main/matrices.ipynb\" target=\"_parent\"><img src=\"https://colab.research.google.com/assets/colab-badge.svg\" alt=\"Open In Colab\"/></a>"
      ]
    },
    {
      "cell_type": "code",
      "execution_count": null,
      "metadata": {
        "id": "qwS7AlG8odCR",
        "colab": {
          "base_uri": "https://localhost:8080/"
        },
        "outputId": "00d12e3a-fb7a-4aae-862f-fa5043b3b604"
      },
      "outputs": [
        {
          "output_type": "stream",
          "name": "stdout",
          "text": [
            "Requirement already satisfied: numpy in /usr/local/lib/python3.10/dist-packages (1.26.4)\n",
            "Requirement already satisfied: pandas in /usr/local/lib/python3.10/dist-packages (2.2.2)\n",
            "Requirement already satisfied: numpy>=1.22.4 in /usr/local/lib/python3.10/dist-packages (from pandas) (1.26.4)\n",
            "Requirement already satisfied: python-dateutil>=2.8.2 in /usr/local/lib/python3.10/dist-packages (from pandas) (2.8.2)\n",
            "Requirement already satisfied: pytz>=2020.1 in /usr/local/lib/python3.10/dist-packages (from pandas) (2024.2)\n",
            "Requirement already satisfied: tzdata>=2022.7 in /usr/local/lib/python3.10/dist-packages (from pandas) (2024.2)\n",
            "Requirement already satisfied: six>=1.5 in /usr/local/lib/python3.10/dist-packages (from python-dateutil>=2.8.2->pandas) (1.17.0)\n"
          ]
        }
      ],
      "source": [
        "!pip install numpy\n",
        "import numpy as np\n",
        "!pip install pandas\n",
        "import pandas as pd\n",
        "import matplotlib.pyplot as plt\n",
        "import urllib.request\n",
        "import os"
      ]
    },
    {
      "cell_type": "code",
      "source": [
        "# File URLs\n",
        "male_data_url = \"https://github.com/gagolews/teaching-data/raw/master/marek/nhanes_adult_male_bmx_2020.csv\"\n",
        "female_data_url = \"https://github.com/gagolews/teaching-data/raw/master/marek/nhanes_adult_female_bmx_2020.csv\"\n"
      ],
      "metadata": {
        "id": "8C6USf3oof7b"
      },
      "execution_count": null,
      "outputs": []
    },
    {
      "cell_type": "code",
      "source": [
        "# Load data into pandas DataFrames with error handling\n",
        "try:\n",
        "    male_data = pd.read_csv(male_data_url, on_bad_lines='skip')\n",
        "    female_data = pd.read_csv(female_data_url, on_bad_lines='skip')\n",
        "except pd.errors.ParserError as e:\n",
        "    print(\"Error loading data:\", e)\n",
        "    raise\n"
      ],
      "metadata": {
        "id": "a-m47sPaXhDF"
      },
      "execution_count": null,
      "outputs": []
    },
    {
      "cell_type": "code",
      "source": [
        "# Print column names to check their availability\n",
        "print(\"Columns in Male Data:\", male_data.columns)\n",
        "print(\"Columns in Female Data:\", female_data.columns)\n",
        "\n"
      ],
      "metadata": {
        "colab": {
          "base_uri": "https://localhost:8080/"
        },
        "id": "yu6zkHzvdfcJ",
        "outputId": "db8a5330-58d2-41c4-af19-0a851a6eab0e"
      },
      "execution_count": null,
      "outputs": [
        {
          "output_type": "stream",
          "name": "stdout",
          "text": [
            "Columns in Male Data: Index(['# Body measurements of males >= 18 years old [cm]'], dtype='object')\n",
            "Columns in Female Data: Index(['# Body measurements of females >= 18 years old [cm]', ' no missing data.'], dtype='object')\n"
          ]
        }
      ]
    },
    {
      "cell_type": "code",
      "source": [
        "# Verify column names and adjust if necessary\n",
        "columns_to_select = ['BMXWT', 'BMXHT', 'BMXARML', 'BMXLEG', 'BMXARMC', 'BMXHIP', 'BMXWAIST']\n",
        "\n"
      ],
      "metadata": {
        "id": "UvRuhKhSeZet"
      },
      "execution_count": null,
      "outputs": []
    },
    {
      "cell_type": "code",
      "source": [
        "# Check if required columns exist\n",
        "missing_male_cols = [col for col in columns_to_select if col not in male_data.columns]\n",
        "missing_female_cols = [col for col in columns_to_select if col not in female_data.columns]\n",
        "\n",
        "if missing_male_cols:\n",
        "    print(f\"Missing columns in Male Data: {missing_male_cols}\")\n",
        "if missing_female_cols:\n",
        "    print(f\"Missing columns in Female Data: {missing_female_cols}\")\n",
        "\n"
      ],
      "metadata": {
        "colab": {
          "base_uri": "https://localhost:8080/"
        },
        "id": "6Gl7wGqFgSda",
        "outputId": "b8037c6a-c9f5-415c-e638-fc4c81249a6a"
      },
      "execution_count": null,
      "outputs": [
        {
          "output_type": "stream",
          "name": "stdout",
          "text": [
            "Missing columns in Male Data: ['BMXWT', 'BMXHT', 'BMXARML', 'BMXLEG', 'BMXARMC', 'BMXHIP', 'BMXWAIST']\n",
            "Missing columns in Female Data: ['BMXWT', 'BMXHT', 'BMXARML', 'BMXLEG', 'BMXARMC', 'BMXHIP', 'BMXWAIST']\n"
          ]
        }
      ]
    },
    {
      "cell_type": "code",
      "source": [
        "# Display the first few rows of each dataset\n",
        "print(\"Male Matrix (First 8 Rows):\")\n",
        "print(male_data[:8])\n",
        "\n",
        "print(\"\\nFemale Matrix (First 8 Rows):\")\n",
        "print(female_data[:8])\n"
      ],
      "metadata": {
        "colab": {
          "base_uri": "https://localhost:8080/"
        },
        "id": "al2SBelLhtJm",
        "outputId": "1a12b226-d4ef-449f-9729-b0489afc13ed"
      },
      "execution_count": null,
      "outputs": [
        {
          "output_type": "stream",
          "name": "stdout",
          "text": [
            "Male Matrix (First 8 Rows):\n",
            "  # Body measurements of males >= 18 years old [cm]\n",
            "0                                                 #\n",
            "1                                     # Weight (kg)\n",
            "2                            # Standing Height (cm)\n",
            "3                           # Upper Arm Length (cm)\n",
            "4                           # Upper Leg Length (cm)\n",
            "5                          # Arm Circumference (cm)\n",
            "6                          # Hip Circumference (cm)\n",
            "7                        # Waist Circumference (cm)\n",
            "\n",
            "Female Matrix (First 8 Rows):\n",
            "  # Body measurements of females >= 18 years old [cm]   no missing data.\n",
            "0                                                  #                 NaN\n",
            "1                                      # Weight (kg)                 NaN\n",
            "2                             # Standing Height (cm)                 NaN\n",
            "3                            # Upper Arm Length (cm)                 NaN\n",
            "4                            # Upper Leg Length (cm)                 NaN\n",
            "5                           # Arm Circumference (cm)                 NaN\n",
            "6                           # Hip Circumference (cm)                 NaN\n",
            "7                         # Waist Circumference (cm)                 NaN\n"
          ]
        }
      ]
    },
    {
      "cell_type": "code",
      "source": [
        " #Print the shapes to verify\n",
        "print(\"Male Matrix Shape:\", male_data.shape)\n",
        "print(\"Female Matrix Shape:\", female_data.shape)"
      ],
      "metadata": {
        "colab": {
          "base_uri": "https://localhost:8080/"
        },
        "id": "sfkyFWSckDZq",
        "outputId": "329ab31e-6bcc-455a-8a79-3ed391363b9d"
      },
      "execution_count": null,
      "outputs": [
        {
          "output_type": "stream",
          "name": "stdout",
          "text": [
            "Male Matrix Shape: (17, 1)\n",
            "Female Matrix Shape: (17, 2)\n"
          ]
        }
      ]
    },
    {
      "cell_type": "code",
      "source": [],
      "metadata": {
        "id": "MSG2sVP4rhhq"
      },
      "execution_count": null,
      "outputs": []
    }
  ]
}